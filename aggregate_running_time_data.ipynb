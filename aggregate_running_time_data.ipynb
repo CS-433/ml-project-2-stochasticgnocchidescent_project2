{
 "cells": [
  {
   "cell_type": "code",
   "execution_count": 1,
   "metadata": {},
   "outputs": [],
   "source": [
    "import numpy as np"
   ]
  },
  {
   "cell_type": "markdown",
   "metadata": {},
   "source": [
    "## Running times with cuda"
   ]
  },
  {
   "cell_type": "code",
   "execution_count": 4,
   "metadata": {},
   "outputs": [],
   "source": [
    "# read files from folder\n",
    "\n",
    "folder = \"logs_for_running_times_tables/\"\n",
    "\n",
    "time_page64 = np.genfromtxt(folder+\"TIMETEST_log_mnist_lenet_page_64.csv\",delimiter=',')\n",
    "diff_time_page64 = np.append(np.zeros(1),time_page64[:,1])\n",
    "diff_time_page64 = np.diff(diff_time_page64)\n",
    "\n",
    "time_page256 = np.genfromtxt(folder+\"TIMETEST_log_mnist_lenet_page_256.csv\",delimiter=',')\n",
    "diff_time_page256 = np.append(np.zeros(1),time_page256[:,1])\n",
    "diff_time_page256 = np.diff(diff_time_page256)\n",
    "\n",
    "time_sgd64 = np.genfromtxt(folder+\"TIMETEST_log_mnist_lenet_sgd_p1_64.csv\",delimiter=',')\n",
    "diff_time_sgd64 = np.append(np.zeros(1),time_sgd64[:,1])\n",
    "diff_time_sgd64 = np.diff(diff_time_sgd64)\n",
    "\n",
    "time_sgd256 = np.genfromtxt(folder+\"TIMETEST_log_mnist_lenet_sgd_p1_256.csv\",delimiter=',')\n",
    "diff_time_sgd256 = np.append(np.zeros(1),time_sgd256[:,1])\n",
    "diff_time_sgd256 = np.diff(diff_time_sgd256)\n",
    "\n",
    "time_pagen = np.genfromtxt(folder+\"TIMETEST_log_mnist_lenet_page_nisb.csv\",delimiter=',')\n",
    "diff_time_pagen = np.append(np.zeros(1),time_pagen[:,1])\n",
    "diff_time_pagen = np.diff(diff_time_pagen)"
   ]
  },
  {
   "cell_type": "code",
   "execution_count": 5,
   "metadata": {},
   "outputs": [],
   "source": [
    "# get mean and std for each run\n",
    "\n",
    "mean_page64, std_page64 = diff_time_page64.mean(), diff_time_page64.std()\n",
    "mean_page256, std_page256 = diff_time_page256.mean(), diff_time_page256.std()\n",
    "mean_sgd64, std_sgd64 = diff_time_sgd64.mean(), diff_time_sgd64.std()\n",
    "mean_sgd256, std_sgd256 = diff_time_sgd256.mean(), diff_time_sgd256.std()\n",
    "mean_pagen, std_pagen = diff_time_pagen.mean(), diff_time_pagen.std()"
   ]
  },
  {
   "cell_type": "code",
   "execution_count": 6,
   "metadata": {},
   "outputs": [],
   "source": [
    "# compute 96% confidence interval upper and lower bound\n",
    "\n",
    "CI_low_page64 = mean_page64 - (1.96 * std_page64 / np.sqrt(20))\n",
    "CI_high_page64 = mean_page64 + (1.96 * std_page64 / np.sqrt(20))\n",
    "\n",
    "CI_low_page256 = mean_page256 - (1.96 * std_page256 / np.sqrt(20))\n",
    "CI_high_page256 = mean_page256 + (1.96 * std_page256 / np.sqrt(20))\n",
    "\n",
    "CI_low_sgd64 = mean_sgd64 - (1.96 * std_sgd64 / np.sqrt(20))\n",
    "CI_high_sgd64 = mean_sgd64 + (1.96 * std_sgd64 / np.sqrt(20))\n",
    "\n",
    "CI_low_sgd256 = mean_sgd256 - (1.96 * std_sgd256 / np.sqrt(20))\n",
    "CI_high_sgd256 = mean_sgd256 + (1.96 * std_sgd256 / np.sqrt(20))\n",
    "\n",
    "CI_low_pagen = mean_pagen - (1.96 * std_pagen / np.sqrt(20))\n",
    "CI_high_pagen = mean_pagen + (1.96 * std_pagen / np.sqrt(20))"
   ]
  },
  {
   "cell_type": "code",
   "execution_count": 7,
   "metadata": {},
   "outputs": [
    {
     "name": "stdout",
     "output_type": "stream",
     "text": [
      "30.084744651946426 30.329851341247558 30.57495803054869\n",
      "14.496410039740656 14.92649462223053 15.356579204720404\n",
      "3.9078392965787163 3.9458001971244814 3.9837610976702464\n",
      "2.827398091603847 2.8684249401092528 2.9094517886146587\n",
      "1.992060998424277 2.4754330039024355 2.958805009380594\n"
     ]
    }
   ],
   "source": [
    "# print results\n",
    "\n",
    "print(CI_low_page64, mean_page64, CI_high_page64)\n",
    "print(CI_low_page256, mean_page256, CI_high_page256)\n",
    "print(CI_low_sgd64, mean_sgd64, CI_high_sgd64)\n",
    "print(CI_low_sgd256, mean_sgd256, CI_high_sgd256)\n",
    "print(CI_low_pagen, mean_pagen, CI_high_pagen)"
   ]
  },
  {
   "cell_type": "markdown",
   "metadata": {},
   "source": [
    "## Running times without cuda"
   ]
  },
  {
   "cell_type": "code",
   "execution_count": 10,
   "metadata": {},
   "outputs": [],
   "source": [
    "# same as before, just different files\n",
    "\n",
    "# read files from folder\n",
    "\n",
    "folder = \"logs_for_running_times_tables/\"\n",
    "\n",
    "time_page64 = np.genfromtxt(folder+\"TIMETEST_NOCUDA_log_mnist_lenet_page_64.csv\",delimiter=',')\n",
    "diff_time_page64 = np.append(np.zeros(1),time_page64[:,1])\n",
    "diff_time_page64 = np.diff(diff_time_page64)\n",
    "\n",
    "time_page256 = np.genfromtxt(folder+\"TIMETEST_NOCUDA_log_mnist_lenet_page_256.csv\",delimiter=',')\n",
    "diff_time_page256 = np.append(np.zeros(1),time_page256[:,1])\n",
    "diff_time_page256 = np.diff(diff_time_page256)\n",
    "\n",
    "time_sgd64 = np.genfromtxt(folder+\"TIMETEST_NOCUDA_log_mnist_lenet_sgd_p1_64.csv\",delimiter=',')\n",
    "diff_time_sgd64 = np.append(np.zeros(1),time_sgd64[:,1])\n",
    "diff_time_sgd64 = np.diff(diff_time_sgd64)\n",
    "\n",
    "time_sgd256 = np.genfromtxt(folder+\"TIMETEST_NOCUDA_log_mnist_lenet_sgd_p1_256.csv\",delimiter=',')\n",
    "diff_time_sgd256 = np.append(np.zeros(1),time_sgd256[:,1])\n",
    "diff_time_sgd256 = np.diff(diff_time_sgd256)\n",
    "\n",
    "time_pagen = np.genfromtxt(folder+\"TIMETEST_NOCUDA_log_mnist_lenet_page_nisb.csv\",delimiter=',')\n",
    "diff_time_pagen = np.append(np.zeros(1),time_pagen[:,1])\n",
    "diff_time_pagen = np.diff(diff_time_pagen)\n",
    "\n",
    "mean_page64, std_page64 = diff_time_page64.mean(), diff_time_page64.std()\n",
    "mean_page256, std_page256 = diff_time_page256.mean(), diff_time_page256.std()\n",
    "mean_sgd64, std_sgd64 = diff_time_sgd64.mean(), diff_time_sgd64.std()\n",
    "mean_sgd256, std_sgd256 = diff_time_sgd256.mean(), diff_time_sgd256.std()\n",
    "mean_pagen, std_pagen = diff_time_pagen.mean(), diff_time_pagen.std()\n",
    "\n",
    "CI_low_page64 = mean_page64 - (1.96 * std_page64 / np.sqrt(20))\n",
    "CI_high_page64 = mean_page64 + (1.96 * std_page64 / np.sqrt(20))\n",
    "\n",
    "CI_low_page256 = mean_page256 - (1.96 * std_page256 / np.sqrt(20))\n",
    "CI_high_page256 = mean_page256 + (1.96 * std_page256 / np.sqrt(20))\n",
    "\n",
    "CI_low_sgd64 = mean_sgd64 - (1.96 * std_sgd64 / np.sqrt(20))\n",
    "CI_high_sgd64 = mean_sgd64 + (1.96 * std_sgd64 / np.sqrt(20))\n",
    "\n",
    "CI_low_sgd256 = mean_sgd256 - (1.96 * std_sgd256 / np.sqrt(20))\n",
    "CI_high_sgd256 = mean_sgd256 + (1.96 * std_sgd256 / np.sqrt(20))\n",
    "\n",
    "CI_low_pagen = mean_pagen - (1.96 * std_pagen / np.sqrt(20))\n",
    "CI_high_pagen = mean_pagen + (1.96 * std_pagen / np.sqrt(20))"
   ]
  },
  {
   "cell_type": "code",
   "execution_count": 11,
   "metadata": {},
   "outputs": [
    {
     "name": "stdout",
     "output_type": "stream",
     "text": [
      "36.386927071424935 37.01258026361465 37.63823345580437\n",
      "25.97638954372889 26.480766427516937 26.985143311304984\n",
      "13.978582152915703 14.389189994335174 14.799797835754646\n",
      "12.055154331961784 12.46688653230667 12.878618732651557\n",
      "18.468119119364154 20.748835066954296 23.029551014544438\n"
     ]
    }
   ],
   "source": [
    "print(CI_low_page64, mean_page64, CI_high_page64)\n",
    "print(CI_low_page256, mean_page256, CI_high_page256)\n",
    "print(CI_low_sgd64, mean_sgd64, CI_high_sgd64)\n",
    "print(CI_low_sgd256, mean_sgd256, CI_high_sgd256)\n",
    "print(CI_low_pagen, mean_pagen, CI_high_pagen)"
   ]
  }
 ],
 "metadata": {
  "interpreter": {
   "hash": "8ce64ca77d62604bb7077990a444cb5c66dd6b48d20e4430a2b0cf9fefd028bc"
  },
  "kernelspec": {
   "display_name": "Python 3.9.7 64-bit ('envmlproj1': conda)",
   "name": "python3"
  },
  "language_info": {
   "codemirror_mode": {
    "name": "ipython",
    "version": 3
   },
   "file_extension": ".py",
   "mimetype": "text/x-python",
   "name": "python",
   "nbconvert_exporter": "python",
   "pygments_lexer": "ipython3",
   "version": "3.9.7"
  }
 },
 "nbformat": 4,
 "nbformat_minor": 4
}

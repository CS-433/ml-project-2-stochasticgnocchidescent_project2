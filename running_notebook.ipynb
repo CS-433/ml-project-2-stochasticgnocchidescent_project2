{
  "cells": [
    {
      "cell_type": "code",
      "execution_count": 1,
      "metadata": {
        "id": "d0Nq5Q_mQ8MU"
      },
      "outputs": [],
      "source": [
        "from torch import nn\n",
        "\n",
        "import page\n",
        "import plain_page\n",
        "import load_data\n",
        "import neur_nets\n",
        "\n",
        "import numpy as np"
      ]
    },
    {
      "cell_type": "code",
      "execution_count": 2,
      "metadata": {
        "id": "PkSaagL5RpQh"
      },
      "outputs": [],
      "source": [
        "# want cuda? set this to True\n",
        "cuda = False\n",
        "\n",
        "# use needed loss function\n",
        "lossfunc = nn.CrossEntropyLoss()"
      ]
    },
    {
      "cell_type": "code",
      "execution_count": 3,
      "metadata": {
        "id": "Ma7z9iXzRiG2"
      },
      "outputs": [],
      "source": [
        "# import datasets\n",
        "\n",
        "train_x, train_y = load_data.load_mnist_train()\n",
        "test_x, test_y = load_data.load_mnist_test()\n",
        "\n",
        "if cuda:\n",
        "    train_x, train_y = train_x.cuda(), train_y.cuda()\n",
        "    test_x, test_y = test_x.cuda(), test_y.cuda()"
      ]
    },
    {
      "cell_type": "code",
      "execution_count": 7,
      "metadata": {
        "colab": {
          "base_uri": "https://localhost:8080/"
        },
        "id": "KzI_53X-Rz3A",
        "outputId": "94c2e66e-ee39-486a-da12-0fefc1c876cb"
      },
      "outputs": [
        {
          "name": "stdout",
          "output_type": "stream",
          "text": [
            "Starting training...\n",
            "--------------------\n",
            "937, 11.947412490844727, 59976, 2.29174, 0.29580\n",
            "937, 11.834299325942993, 59976, 2.23430, 0.27450\n",
            "937, 11.97373342514038, 59976, 1.39148, 0.55560\n",
            "937, 12.324714183807373, 59976, 0.90454, 0.69930\n",
            "--------------------\n",
            "Training terminated after 63.65511775016785 seconds\n"
          ]
        }
      ],
      "source": [
        "# instantiate needed NN\n",
        "model = neur_nets.LeNet(cuda) \n",
        "\n",
        "b = 64 # batch size \n",
        "eta = 0.005 # we have \"manually binary searched\" for the best hyper-param\n",
        "num_inits = 4 # number of epochs\n",
        "\n",
        "print_log = True \n",
        "file_name_log = None # set this to file name to generate log file\n",
        "\n",
        "# we run practical version of PAGE\n",
        "# change batch size b and as_sgd argument to run different experiments (recall as_sgd makes PAGE behave as SGD)\n",
        "\n",
        "# prints a row for each epoch with: number of iterations of PAGE in that epoch, time span for that epoch, computed gradients within the epoch, train loss, test accuracy\n",
        "# the same is logged to file if file_name_log is not None, except that time spans number of iterations, and computed gradients are accumulated\n",
        "page.train_epoch_style(train_x, train_y, test_x, test_y, model, lossfunc, num_inits, b, eta, file_name_log, print_log, as_sgd = True)"
      ]
    }
  ],
  "metadata": {
    "accelerator": "GPU",
    "colab": {
      "collapsed_sections": [],
      "name": "running_notebook.ipynb",
      "provenance": []
    },
    "interpreter": {
      "hash": "8ce64ca77d62604bb7077990a444cb5c66dd6b48d20e4430a2b0cf9fefd028bc"
    },
    "kernelspec": {
      "display_name": "Python 3.9.7 64-bit ('envmlproj1': conda)",
      "name": "python3"
    },
    "language_info": {
      "codemirror_mode": {
        "name": "ipython",
        "version": 3
      },
      "file_extension": ".py",
      "mimetype": "text/x-python",
      "name": "python",
      "nbconvert_exporter": "python",
      "pygments_lexer": "ipython3",
      "version": "3.9.7"
    }
  },
  "nbformat": 4,
  "nbformat_minor": 0
}
